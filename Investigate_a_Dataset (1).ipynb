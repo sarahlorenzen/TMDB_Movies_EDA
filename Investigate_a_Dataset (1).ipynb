{
 "cells": [
  {
   "cell_type": "markdown",
   "metadata": {
    "tags": []
   },
   "source": [
    "# Project: Investigate a Dataset - TMDb Movie Dataset\n",
    "\n",
    "## Table of Contents\n",
    "<ul>\n",
    "<li><a href=\"#intro\">Introduction</a></li>\n",
    "<li><a href=\"#wrangling\">Data Wrangling</a></li>\n",
    "<li><a href=\"#eda\">Exploratory Data Analysis</a></li>\n",
    "<li><a href=\"#conclusions\">Conclusions</a></li>\n",
    "</ul>"
   ]
  },
  {
   "cell_type": "markdown",
   "metadata": {},
   "source": [
    "<a id='intro'></a>\n",
    "## Introduction\n",
    "\n",
    "### Dataset Description \n",
    "\n",
    "I choose the TMDb 5000 movie dataset for analysis. This dataset contains information about 10,000 movies collected from The Movie Database (TMDb), including user ratings and revenue.\n",
    "\n",
    "I will be using the following columns from the dataset (listed with their significance): \n",
    "\n",
    "| Column Name | Significance |\n",
    "| :--- | :--- |\n",
    "| popularity | \"Lifetime\" popularity score on TMDb, not just at the box office. |\n",
    "| original_title | Movie's title |\n",
    "| runtime | Movie length in minutes |\n",
    "| genres | Themed categories classifying all movies. |\n",
    "| release_year | Year the movie opened into Theatres. |\n",
    "| budget_adj | Movie's budget adjusted to current value with inflation. |\n",
    "| revenue_adj | Movie's revenue adjusted to current value with inflation. |\n",
    "\n",
    "I will add 'profit' from revenue_adj - budget_adj\n",
    "\n",
    "### Question(s) for Analysis\n",
    "1. Which Movies are the most profitable?\n",
    "2. Which Movies are the most popular?\n",
    "3. Are movies getting longer? Average Runtime Of Movies From Year To Year\n",
    "4. Which Genre Has The Highest Release Of Movies? \n",
    "\n",
    "\n"
   ]
  },
  {
   "cell_type": "code",
   "execution_count": 1,
   "metadata": {
    "tags": []
   },
   "outputs": [],
   "source": [
    "# Use this cell to set up import statements for all of the packages that you\n",
    "#   plan to use.\n",
    "\n",
    "# import all libraries\n",
    "import pandas as pd\n",
    "import numpy as np\n",
    "import matplotlib.pyplot as plt\n",
    "%matplotlib inline\n",
    "import seaborn as sns\n",
    "\n",
    "# While optional for current notebooks, if you are having trouble with visualizations,\n",
    "#   remember to include a 'magic word' so that your visualizations are plotted\n",
    "#   inline with the notebook. See this page for more:\n",
    "#   http://ipython.readthedocs.io/en/stable/interactive/magics.html\n"
   ]
  },
  {
   "cell_type": "markdown",
   "metadata": {},
   "source": [
    "<a id='wrangling'></a>\n",
    "## Data Wrangling\n",
    "\n",
    "\n",
    "### General Properties"
   ]
  },
  {
   "cell_type": "code",
   "execution_count": 2,
   "metadata": {
    "tags": []
   },
   "outputs": [
    {
     "data": {
      "text/html": [
       "<div>\n",
       "<style scoped>\n",
       "    .dataframe tbody tr th:only-of-type {\n",
       "        vertical-align: middle;\n",
       "    }\n",
       "\n",
       "    .dataframe tbody tr th {\n",
       "        vertical-align: top;\n",
       "    }\n",
       "\n",
       "    .dataframe thead th {\n",
       "        text-align: right;\n",
       "    }\n",
       "</style>\n",
       "<table border=\"1\" class=\"dataframe\">\n",
       "  <thead>\n",
       "    <tr style=\"text-align: right;\">\n",
       "      <th></th>\n",
       "      <th>popularity</th>\n",
       "      <th>original_title</th>\n",
       "      <th>runtime</th>\n",
       "      <th>genres</th>\n",
       "      <th>release_year</th>\n",
       "      <th>budget_adj</th>\n",
       "      <th>revenue_adj</th>\n",
       "    </tr>\n",
       "  </thead>\n",
       "  <tbody>\n",
       "    <tr>\n",
       "      <th>0</th>\n",
       "      <td>32.985763</td>\n",
       "      <td>Jurassic World</td>\n",
       "      <td>124</td>\n",
       "      <td>Action|Adventure|Science Fiction|Thriller</td>\n",
       "      <td>2015</td>\n",
       "      <td>1.379999e+08</td>\n",
       "      <td>1.392446e+09</td>\n",
       "    </tr>\n",
       "    <tr>\n",
       "      <th>1</th>\n",
       "      <td>28.419936</td>\n",
       "      <td>Mad Max: Fury Road</td>\n",
       "      <td>120</td>\n",
       "      <td>Action|Adventure|Science Fiction|Thriller</td>\n",
       "      <td>2015</td>\n",
       "      <td>1.379999e+08</td>\n",
       "      <td>3.481613e+08</td>\n",
       "    </tr>\n",
       "    <tr>\n",
       "      <th>2</th>\n",
       "      <td>13.112507</td>\n",
       "      <td>Insurgent</td>\n",
       "      <td>119</td>\n",
       "      <td>Adventure|Science Fiction|Thriller</td>\n",
       "      <td>2015</td>\n",
       "      <td>1.012000e+08</td>\n",
       "      <td>2.716190e+08</td>\n",
       "    </tr>\n",
       "    <tr>\n",
       "      <th>3</th>\n",
       "      <td>11.173104</td>\n",
       "      <td>Star Wars: The Force Awakens</td>\n",
       "      <td>136</td>\n",
       "      <td>Action|Adventure|Science Fiction|Fantasy</td>\n",
       "      <td>2015</td>\n",
       "      <td>1.839999e+08</td>\n",
       "      <td>1.902723e+09</td>\n",
       "    </tr>\n",
       "    <tr>\n",
       "      <th>4</th>\n",
       "      <td>9.335014</td>\n",
       "      <td>Furious 7</td>\n",
       "      <td>137</td>\n",
       "      <td>Action|Crime|Thriller</td>\n",
       "      <td>2015</td>\n",
       "      <td>1.747999e+08</td>\n",
       "      <td>1.385749e+09</td>\n",
       "    </tr>\n",
       "  </tbody>\n",
       "</table>\n",
       "</div>"
      ],
      "text/plain": [
       "   popularity                original_title  runtime  \\\n",
       "0   32.985763                Jurassic World      124   \n",
       "1   28.419936            Mad Max: Fury Road      120   \n",
       "2   13.112507                     Insurgent      119   \n",
       "3   11.173104  Star Wars: The Force Awakens      136   \n",
       "4    9.335014                     Furious 7      137   \n",
       "\n",
       "                                      genres  release_year    budget_adj  \\\n",
       "0  Action|Adventure|Science Fiction|Thriller          2015  1.379999e+08   \n",
       "1  Action|Adventure|Science Fiction|Thriller          2015  1.379999e+08   \n",
       "2         Adventure|Science Fiction|Thriller          2015  1.012000e+08   \n",
       "3   Action|Adventure|Science Fiction|Fantasy          2015  1.839999e+08   \n",
       "4                      Action|Crime|Thriller          2015  1.747999e+08   \n",
       "\n",
       "    revenue_adj  \n",
       "0  1.392446e+09  \n",
       "1  3.481613e+08  \n",
       "2  2.716190e+08  \n",
       "3  1.902723e+09  \n",
       "4  1.385749e+09  "
      ]
     },
     "execution_count": 2,
     "metadata": {},
     "output_type": "execute_result"
    }
   ],
   "source": [
    "# Defining the columns to read - excluding the rest to load dataset faster & save parsing time\n",
    "# load csv file data into data frame\n",
    "\n",
    "usecols = [\"popularity\", \"original_title\", \"runtime\", \"genres\", \"release_year\", \"budget_adj\", \"revenue_adj\"]\n",
    "df = pd.read_csv('Database_TMDb_movie_data/tmdb-movies.csv', usecols=usecols)\n",
    "\n",
    "# display first five rows of data\n",
    "df.head(5)"
   ]
  },
  {
   "cell_type": "markdown",
   "metadata": {},
   "source": [
    "\n",
    "### Data Cleaning\n",
    "\n",
    "First we will gather basic information about the dataset to look for missing data, duplicates, or incorrect data types. "
   ]
  },
  {
   "cell_type": "markdown",
   "metadata": {},
   "source": [
    "#### Check for Incorrect Data Types"
   ]
  },
  {
   "cell_type": "code",
   "execution_count": 3,
   "metadata": {},
   "outputs": [
    {
     "name": "stdout",
     "output_type": "stream",
     "text": [
      "<class 'pandas.core.frame.DataFrame'>\n",
      "RangeIndex: 10866 entries, 0 to 10865\n",
      "Data columns (total 7 columns):\n",
      " #   Column          Non-Null Count  Dtype  \n",
      "---  ------          --------------  -----  \n",
      " 0   popularity      10866 non-null  float64\n",
      " 1   original_title  10866 non-null  object \n",
      " 2   runtime         10866 non-null  int64  \n",
      " 3   genres          10843 non-null  object \n",
      " 4   release_year    10866 non-null  int64  \n",
      " 5   budget_adj      10866 non-null  float64\n",
      " 6   revenue_adj     10866 non-null  float64\n",
      "dtypes: float64(3), int64(2), object(2)\n",
      "memory usage: 594.4+ KB\n"
     ]
    }
   ],
   "source": [
    "df.info()"
   ]
  },
  {
   "cell_type": "markdown",
   "metadata": {},
   "source": [
    "#### Check for Null or Empty fields"
   ]
  },
  {
   "cell_type": "code",
   "execution_count": 4,
   "metadata": {},
   "outputs": [
    {
     "data": {
      "text/plain": [
       "popularity         0\n",
       "original_title     0\n",
       "runtime            0\n",
       "genres            23\n",
       "release_year       0\n",
       "budget_adj         0\n",
       "revenue_adj        0\n",
       "dtype: int64"
      ]
     },
     "execution_count": 4,
     "metadata": {},
     "output_type": "execute_result"
    }
   ],
   "source": [
    "# Check for Missing values\n",
    "df.isnull().sum()"
   ]
  },
  {
   "cell_type": "markdown",
   "metadata": {},
   "source": [
    "#### Check for Duplicates"
   ]
  },
  {
   "cell_type": "code",
   "execution_count": 5,
   "metadata": {},
   "outputs": [
    {
     "data": {
      "text/plain": [
       "1"
      ]
     },
     "execution_count": 5,
     "metadata": {},
     "output_type": "execute_result"
    }
   ],
   "source": [
    "# check for duplicated rows\n",
    "df.duplicated().sum()"
   ]
  },
  {
   "cell_type": "markdown",
   "metadata": {},
   "source": [
    "### Cleaning Fix Results\n",
    "\n",
    "We see there are a max of 10866 entries per column, with 'Genres' returning only 10843, indicating that there were 23 missing genre data fields. The null values were replaced with 0 and then those rows were dropped. \n",
    "\n",
    "The 'Popularity', 'Budget_Adj' and 'Revenue_Adj' data were loaded as the incorrect data types and were all converted into the desired Integer format."
   ]
  },
  {
   "cell_type": "markdown",
   "metadata": {},
   "source": [
    "#### Fix / Drop Duplicate Rows"
   ]
  },
  {
   "cell_type": "code",
   "execution_count": 6,
   "metadata": {},
   "outputs": [
    {
     "data": {
      "text/plain": [
       "0"
      ]
     },
     "execution_count": 6,
     "metadata": {},
     "output_type": "execute_result"
    }
   ],
   "source": [
    "# drop duplicates\n",
    "df = df.drop_duplicates(keep=False)\n",
    "df.duplicated().sum()"
   ]
  },
  {
   "cell_type": "markdown",
   "metadata": {},
   "source": [
    "#### Fix Missing Data"
   ]
  },
  {
   "cell_type": "code",
   "execution_count": 7,
   "metadata": {},
   "outputs": [],
   "source": [
    "# Fill the null values with zero. Check again\n",
    "\n",
    "df.fillna(0, inplace = True)"
   ]
  },
  {
   "cell_type": "code",
   "execution_count": 8,
   "metadata": {},
   "outputs": [
    {
     "data": {
      "text/plain": [
       "popularity        0\n",
       "original_title    0\n",
       "runtime           0\n",
       "genres            0\n",
       "release_year      0\n",
       "budget_adj        0\n",
       "revenue_adj       0\n",
       "dtype: int64"
      ]
     },
     "execution_count": 8,
     "metadata": {},
     "output_type": "execute_result"
    }
   ],
   "source": [
    "# verify no remaining null values\n",
    "df.isnull().sum()"
   ]
  },
  {
   "cell_type": "code",
   "execution_count": 13,
   "metadata": {},
   "outputs": [],
   "source": [
    "# Drop rows with zero values in genres\n",
    "# Drop rows with zero revenue_adj values\n",
    "\n",
    "df['genres'] = df['genres'].replace(0, np.NaN)\n",
    "df['revenue_adj'] = df['revenue_adj'].replace(0, np.NaN)\n",
    "\n",
    "df.dropna(inplace =True)"
   ]
  },
  {
   "cell_type": "markdown",
   "metadata": {},
   "source": [
    "#### Fix Incorrect Data Types"
   ]
  },
  {
   "cell_type": "code",
   "execution_count": 10,
   "metadata": {},
   "outputs": [],
   "source": [
    "# Fix incorrect data types: Change popularity, budget_adj and revneue_adj to integers\n",
    "df['popularity'] = df['popularity'].astype(int)\n",
    "df['budget_adj'] = df['budget_adj'].astype(int)\n",
    "df['revenue_adj'] = df['revenue_adj'].astype(int)"
   ]
  },
  {
   "cell_type": "code",
   "execution_count": 11,
   "metadata": {},
   "outputs": [
    {
     "name": "stdout",
     "output_type": "stream",
     "text": [
      "<class 'pandas.core.frame.DataFrame'>\n",
      "Int64Index: 4848 entries, 0 to 10848\n",
      "Data columns (total 7 columns):\n",
      " #   Column          Non-Null Count  Dtype \n",
      "---  ------          --------------  ----- \n",
      " 0   popularity      4848 non-null   int64 \n",
      " 1   original_title  4848 non-null   object\n",
      " 2   runtime         4848 non-null   int64 \n",
      " 3   genres          4848 non-null   object\n",
      " 4   release_year    4848 non-null   int64 \n",
      " 5   budget_adj      4848 non-null   int64 \n",
      " 6   revenue_adj     4848 non-null   int64 \n",
      "dtypes: int64(5), object(2)\n",
      "memory usage: 303.0+ KB\n"
     ]
    }
   ],
   "source": [
    "df.info()"
   ]
  },
  {
   "cell_type": "code",
   "execution_count": 12,
   "metadata": {},
   "outputs": [
    {
     "data": {
      "text/plain": [
       "(4848, 7)"
      ]
     },
     "execution_count": 12,
     "metadata": {},
     "output_type": "execute_result"
    }
   ],
   "source": [
    "# Cleaned Database shape (Rows, Columns)\n",
    "df.shape"
   ]
  },
  {
   "cell_type": "markdown",
   "metadata": {},
   "source": [
    "<a id='eda'></a>\n",
    "## Exploratory Data Analysis\n",
    "\n",
    "\n",
    "### Research Question 1 - Which movies are the most profitable?"
   ]
  },
  {
   "cell_type": "code",
   "execution_count": 14,
   "metadata": {
    "tags": []
   },
   "outputs": [],
   "source": [
    "# Create new column for the profit to find out which movie is more profitable."
   ]
  },
  {
   "cell_type": "code",
   "execution_count": 15,
   "metadata": {},
   "outputs": [
    {
     "data": {
      "text/html": [
       "<div>\n",
       "<style scoped>\n",
       "    .dataframe tbody tr th:only-of-type {\n",
       "        vertical-align: middle;\n",
       "    }\n",
       "\n",
       "    .dataframe tbody tr th {\n",
       "        vertical-align: top;\n",
       "    }\n",
       "\n",
       "    .dataframe thead th {\n",
       "        text-align: right;\n",
       "    }\n",
       "</style>\n",
       "<table border=\"1\" class=\"dataframe\">\n",
       "  <thead>\n",
       "    <tr style=\"text-align: right;\">\n",
       "      <th></th>\n",
       "      <th>popularity</th>\n",
       "      <th>original_title</th>\n",
       "      <th>runtime</th>\n",
       "      <th>genres</th>\n",
       "      <th>release_year</th>\n",
       "      <th>budget_adj</th>\n",
       "      <th>revenue_adj</th>\n",
       "      <th>profit - $ Billion</th>\n",
       "    </tr>\n",
       "  </thead>\n",
       "  <tbody>\n",
       "    <tr>\n",
       "      <th>0</th>\n",
       "      <td>32</td>\n",
       "      <td>Jurassic World</td>\n",
       "      <td>124</td>\n",
       "      <td>Action|Adventure|Science Fiction|Thriller</td>\n",
       "      <td>2015</td>\n",
       "      <td>137999939</td>\n",
       "      <td>1392445892</td>\n",
       "      <td>1.254446</td>\n",
       "    </tr>\n",
       "  </tbody>\n",
       "</table>\n",
       "</div>"
      ],
      "text/plain": [
       "   popularity  original_title  runtime  \\\n",
       "0          32  Jurassic World      124   \n",
       "\n",
       "                                      genres  release_year  budget_adj  \\\n",
       "0  Action|Adventure|Science Fiction|Thriller          2015   137999939   \n",
       "\n",
       "   revenue_adj  profit - $ Billion  \n",
       "0   1392445892            1.254446  "
      ]
     },
     "execution_count": 15,
     "metadata": {},
     "output_type": "execute_result"
    }
   ],
   "source": [
    "df['profit'] = (df['revenue_adj'] - df['budget_adj']) / 1000000000\n",
    "df.rename(columns={'profit': 'profit - $ Billion'}, inplace=True)\n",
    "df.head(1)"
   ]
  },
  {
   "cell_type": "code",
   "execution_count": 16,
   "metadata": {},
   "outputs": [
    {
     "data": {
      "text/html": [
       "<div>\n",
       "<style scoped>\n",
       "    .dataframe tbody tr th:only-of-type {\n",
       "        vertical-align: middle;\n",
       "    }\n",
       "\n",
       "    .dataframe tbody tr th {\n",
       "        vertical-align: top;\n",
       "    }\n",
       "\n",
       "    .dataframe thead th {\n",
       "        text-align: right;\n",
       "    }\n",
       "</style>\n",
       "<table border=\"1\" class=\"dataframe\">\n",
       "  <thead>\n",
       "    <tr style=\"text-align: right;\">\n",
       "      <th></th>\n",
       "      <th>popularity</th>\n",
       "      <th>original_title</th>\n",
       "      <th>runtime</th>\n",
       "      <th>genres</th>\n",
       "      <th>release_year</th>\n",
       "      <th>budget_adj</th>\n",
       "      <th>revenue_adj</th>\n",
       "      <th>profit - $ Billion</th>\n",
       "    </tr>\n",
       "  </thead>\n",
       "  <tbody>\n",
       "    <tr>\n",
       "      <th>1329</th>\n",
       "      <td>12</td>\n",
       "      <td>Star Wars</td>\n",
       "      <td>121</td>\n",
       "      <td>Adventure|Action|Science Fiction</td>\n",
       "      <td>1977</td>\n",
       "      <td>39575591</td>\n",
       "      <td>2789712242</td>\n",
       "      <td>2.750137</td>\n",
       "    </tr>\n",
       "    <tr>\n",
       "      <th>1386</th>\n",
       "      <td>9</td>\n",
       "      <td>Avatar</td>\n",
       "      <td>162</td>\n",
       "      <td>Action|Adventure|Fantasy|Science Fiction</td>\n",
       "      <td>2009</td>\n",
       "      <td>240886902</td>\n",
       "      <td>2827123750</td>\n",
       "      <td>2.586237</td>\n",
       "    </tr>\n",
       "    <tr>\n",
       "      <th>5231</th>\n",
       "      <td>4</td>\n",
       "      <td>Titanic</td>\n",
       "      <td>194</td>\n",
       "      <td>Drama|Romance|Thriller</td>\n",
       "      <td>1997</td>\n",
       "      <td>271692064</td>\n",
       "      <td>2506405735</td>\n",
       "      <td>2.234714</td>\n",
       "    </tr>\n",
       "    <tr>\n",
       "      <th>10594</th>\n",
       "      <td>2</td>\n",
       "      <td>The Exorcist</td>\n",
       "      <td>122</td>\n",
       "      <td>Drama|Horror|Thriller</td>\n",
       "      <td>1973</td>\n",
       "      <td>39289276</td>\n",
       "      <td>2167324901</td>\n",
       "      <td>2.128036</td>\n",
       "    </tr>\n",
       "    <tr>\n",
       "      <th>9806</th>\n",
       "      <td>2</td>\n",
       "      <td>Jaws</td>\n",
       "      <td>124</td>\n",
       "      <td>Horror|Thriller|Adventure</td>\n",
       "      <td>1975</td>\n",
       "      <td>28362748</td>\n",
       "      <td>1907005841</td>\n",
       "      <td>1.878643</td>\n",
       "    </tr>\n",
       "    <tr>\n",
       "      <th>8889</th>\n",
       "      <td>2</td>\n",
       "      <td>E.T. the Extra-Terrestrial</td>\n",
       "      <td>115</td>\n",
       "      <td>Science Fiction|Adventure|Family|Fantasy</td>\n",
       "      <td>1982</td>\n",
       "      <td>23726245</td>\n",
       "      <td>1791694309</td>\n",
       "      <td>1.767968</td>\n",
       "    </tr>\n",
       "    <tr>\n",
       "      <th>3</th>\n",
       "      <td>11</td>\n",
       "      <td>Star Wars: The Force Awakens</td>\n",
       "      <td>136</td>\n",
       "      <td>Action|Adventure|Science Fiction|Fantasy</td>\n",
       "      <td>2015</td>\n",
       "      <td>183999919</td>\n",
       "      <td>1902723129</td>\n",
       "      <td>1.718723</td>\n",
       "    </tr>\n",
       "    <tr>\n",
       "      <th>8094</th>\n",
       "      <td>1</td>\n",
       "      <td>The Net</td>\n",
       "      <td>114</td>\n",
       "      <td>Crime|Drama|Mystery|Thriller|Action</td>\n",
       "      <td>1995</td>\n",
       "      <td>31481271</td>\n",
       "      <td>1583049536</td>\n",
       "      <td>1.551568</td>\n",
       "    </tr>\n",
       "    <tr>\n",
       "      <th>10110</th>\n",
       "      <td>2</td>\n",
       "      <td>One Hundred and One Dalmatians</td>\n",
       "      <td>79</td>\n",
       "      <td>Adventure|Animation|Comedy|Family</td>\n",
       "      <td>1961</td>\n",
       "      <td>29179444</td>\n",
       "      <td>1574814739</td>\n",
       "      <td>1.545635</td>\n",
       "    </tr>\n",
       "    <tr>\n",
       "      <th>7309</th>\n",
       "      <td>5</td>\n",
       "      <td>The Empire Strikes Back</td>\n",
       "      <td>124</td>\n",
       "      <td>Adventure|Action|Science Fiction</td>\n",
       "      <td>1980</td>\n",
       "      <td>47628661</td>\n",
       "      <td>1424626187</td>\n",
       "      <td>1.376998</td>\n",
       "    </tr>\n",
       "    <tr>\n",
       "      <th>10398</th>\n",
       "      <td>2</td>\n",
       "      <td>The Jungle Book</td>\n",
       "      <td>78</td>\n",
       "      <td>Family|Animation|Adventure</td>\n",
       "      <td>1967</td>\n",
       "      <td>26147054</td>\n",
       "      <td>1345551058</td>\n",
       "      <td>1.319404</td>\n",
       "    </tr>\n",
       "    <tr>\n",
       "      <th>10223</th>\n",
       "      <td>2</td>\n",
       "      <td>Jurassic Park</td>\n",
       "      <td>127</td>\n",
       "      <td>Adventure|Science Fiction</td>\n",
       "      <td>1993</td>\n",
       "      <td>95096607</td>\n",
       "      <td>1388863311</td>\n",
       "      <td>1.293767</td>\n",
       "    </tr>\n",
       "    <tr>\n",
       "      <th>0</th>\n",
       "      <td>32</td>\n",
       "      <td>Jurassic World</td>\n",
       "      <td>124</td>\n",
       "      <td>Action|Adventure|Science Fiction|Thriller</td>\n",
       "      <td>2015</td>\n",
       "      <td>137999939</td>\n",
       "      <td>1392445892</td>\n",
       "      <td>1.254446</td>\n",
       "    </tr>\n",
       "    <tr>\n",
       "      <th>7269</th>\n",
       "      <td>5</td>\n",
       "      <td>The Godfather</td>\n",
       "      <td>175</td>\n",
       "      <td>Drama|Crime</td>\n",
       "      <td>1972</td>\n",
       "      <td>31287365</td>\n",
       "      <td>1277913732</td>\n",
       "      <td>1.246626</td>\n",
       "    </tr>\n",
       "    <tr>\n",
       "      <th>4361</th>\n",
       "      <td>7</td>\n",
       "      <td>The Avengers</td>\n",
       "      <td>143</td>\n",
       "      <td>Science Fiction|Action|Adventure</td>\n",
       "      <td>2012</td>\n",
       "      <td>208943741</td>\n",
       "      <td>1443191435</td>\n",
       "      <td>1.234248</td>\n",
       "    </tr>\n",
       "    <tr>\n",
       "      <th>4949</th>\n",
       "      <td>7</td>\n",
       "      <td>The Lord of the Rings: The Return of the King</td>\n",
       "      <td>201</td>\n",
       "      <td>Adventure|Fantasy|Action</td>\n",
       "      <td>2003</td>\n",
       "      <td>111423148</td>\n",
       "      <td>1326278010</td>\n",
       "      <td>1.214855</td>\n",
       "    </tr>\n",
       "    <tr>\n",
       "      <th>4</th>\n",
       "      <td>9</td>\n",
       "      <td>Furious 7</td>\n",
       "      <td>137</td>\n",
       "      <td>Action|Crime|Thriller</td>\n",
       "      <td>2015</td>\n",
       "      <td>174799923</td>\n",
       "      <td>1385748801</td>\n",
       "      <td>1.210949</td>\n",
       "    </tr>\n",
       "    <tr>\n",
       "      <th>7987</th>\n",
       "      <td>4</td>\n",
       "      <td>Return of the Jedi</td>\n",
       "      <td>135</td>\n",
       "      <td>Adventure|Action|Science Fiction</td>\n",
       "      <td>1983</td>\n",
       "      <td>70824243</td>\n",
       "      <td>1253818981</td>\n",
       "      <td>1.182995</td>\n",
       "    </tr>\n",
       "    <tr>\n",
       "      <th>3374</th>\n",
       "      <td>5</td>\n",
       "      <td>Harry Potter and the Deathly Hallows: Part 2</td>\n",
       "      <td>130</td>\n",
       "      <td>Adventure|Family|Fantasy</td>\n",
       "      <td>2011</td>\n",
       "      <td>121174755</td>\n",
       "      <td>1287183997</td>\n",
       "      <td>1.166009</td>\n",
       "    </tr>\n",
       "    <tr>\n",
       "      <th>4180</th>\n",
       "      <td>4</td>\n",
       "      <td>The Lion King</td>\n",
       "      <td>89</td>\n",
       "      <td>Family|Animation|Drama</td>\n",
       "      <td>1994</td>\n",
       "      <td>66200020</td>\n",
       "      <td>1159591590</td>\n",
       "      <td>1.093392</td>\n",
       "    </tr>\n",
       "  </tbody>\n",
       "</table>\n",
       "</div>"
      ],
      "text/plain": [
       "       popularity                                 original_title  runtime  \\\n",
       "1329           12                                      Star Wars      121   \n",
       "1386            9                                         Avatar      162   \n",
       "5231            4                                        Titanic      194   \n",
       "10594           2                                   The Exorcist      122   \n",
       "9806            2                                           Jaws      124   \n",
       "8889            2                     E.T. the Extra-Terrestrial      115   \n",
       "3              11                   Star Wars: The Force Awakens      136   \n",
       "8094            1                                        The Net      114   \n",
       "10110           2                 One Hundred and One Dalmatians       79   \n",
       "7309            5                        The Empire Strikes Back      124   \n",
       "10398           2                                The Jungle Book       78   \n",
       "10223           2                                  Jurassic Park      127   \n",
       "0              32                                 Jurassic World      124   \n",
       "7269            5                                  The Godfather      175   \n",
       "4361            7                                   The Avengers      143   \n",
       "4949            7  The Lord of the Rings: The Return of the King      201   \n",
       "4               9                                      Furious 7      137   \n",
       "7987            4                             Return of the Jedi      135   \n",
       "3374            5   Harry Potter and the Deathly Hallows: Part 2      130   \n",
       "4180            4                                  The Lion King       89   \n",
       "\n",
       "                                          genres  release_year  budget_adj  \\\n",
       "1329            Adventure|Action|Science Fiction          1977    39575591   \n",
       "1386    Action|Adventure|Fantasy|Science Fiction          2009   240886902   \n",
       "5231                      Drama|Romance|Thriller          1997   271692064   \n",
       "10594                      Drama|Horror|Thriller          1973    39289276   \n",
       "9806                   Horror|Thriller|Adventure          1975    28362748   \n",
       "8889    Science Fiction|Adventure|Family|Fantasy          1982    23726245   \n",
       "3       Action|Adventure|Science Fiction|Fantasy          2015   183999919   \n",
       "8094         Crime|Drama|Mystery|Thriller|Action          1995    31481271   \n",
       "10110          Adventure|Animation|Comedy|Family          1961    29179444   \n",
       "7309            Adventure|Action|Science Fiction          1980    47628661   \n",
       "10398                 Family|Animation|Adventure          1967    26147054   \n",
       "10223                  Adventure|Science Fiction          1993    95096607   \n",
       "0      Action|Adventure|Science Fiction|Thriller          2015   137999939   \n",
       "7269                                 Drama|Crime          1972    31287365   \n",
       "4361            Science Fiction|Action|Adventure          2012   208943741   \n",
       "4949                    Adventure|Fantasy|Action          2003   111423148   \n",
       "4                          Action|Crime|Thriller          2015   174799923   \n",
       "7987            Adventure|Action|Science Fiction          1983    70824243   \n",
       "3374                    Adventure|Family|Fantasy          2011   121174755   \n",
       "4180                      Family|Animation|Drama          1994    66200020   \n",
       "\n",
       "       revenue_adj  profit - $ Billion  \n",
       "1329    2789712242            2.750137  \n",
       "1386    2827123750            2.586237  \n",
       "5231    2506405735            2.234714  \n",
       "10594   2167324901            2.128036  \n",
       "9806    1907005841            1.878643  \n",
       "8889    1791694309            1.767968  \n",
       "3       1902723129            1.718723  \n",
       "8094    1583049536            1.551568  \n",
       "10110   1574814739            1.545635  \n",
       "7309    1424626187            1.376998  \n",
       "10398   1345551058            1.319404  \n",
       "10223   1388863311            1.293767  \n",
       "0       1392445892            1.254446  \n",
       "7269    1277913732            1.246626  \n",
       "4361    1443191435            1.234248  \n",
       "4949    1326278010            1.214855  \n",
       "4       1385748801            1.210949  \n",
       "7987    1253818981            1.182995  \n",
       "3374    1287183997            1.166009  \n",
       "4180    1159591590            1.093392  "
      ]
     },
     "execution_count": 16,
     "metadata": {},
     "output_type": "execute_result"
    }
   ],
   "source": [
    "# Sort the data by profit and show the top 20 rows.\n",
    "df.sort_values(['profit - $ Billion'], ascending = False).head(20)"
   ]
  },
  {
   "cell_type": "markdown",
   "metadata": {},
   "source": [
    "**Star Wars** holds 4 / 20 top spots! \n",
    "9 / 20 of the top spots are in the **Science Fiction** genre. \n",
    "14 / 20 of the top spots are in the **Adventure** genre.\n",
    "\n",
    "This will definitely have an impact on the most profitable Genre as well."
   ]
  },
  {
   "cell_type": "markdown",
   "metadata": {},
   "source": [
    "### Research Question 2 - Which Movies are the most popular?"
   ]
  },
  {
   "cell_type": "code",
   "execution_count": 17,
   "metadata": {},
   "outputs": [
    {
     "data": {
      "text/html": [
       "<div>\n",
       "<style scoped>\n",
       "    .dataframe tbody tr th:only-of-type {\n",
       "        vertical-align: middle;\n",
       "    }\n",
       "\n",
       "    .dataframe tbody tr th {\n",
       "        vertical-align: top;\n",
       "    }\n",
       "\n",
       "    .dataframe thead th {\n",
       "        text-align: right;\n",
       "    }\n",
       "</style>\n",
       "<table border=\"1\" class=\"dataframe\">\n",
       "  <thead>\n",
       "    <tr style=\"text-align: right;\">\n",
       "      <th></th>\n",
       "      <th>popularity</th>\n",
       "      <th>original_title</th>\n",
       "      <th>runtime</th>\n",
       "      <th>genres</th>\n",
       "      <th>release_year</th>\n",
       "      <th>budget_adj</th>\n",
       "      <th>revenue_adj</th>\n",
       "      <th>profit - $ Billion</th>\n",
       "    </tr>\n",
       "  </thead>\n",
       "  <tbody>\n",
       "    <tr>\n",
       "      <th>0</th>\n",
       "      <td>32</td>\n",
       "      <td>Jurassic World</td>\n",
       "      <td>124</td>\n",
       "      <td>Action|Adventure|Science Fiction|Thriller</td>\n",
       "      <td>2015</td>\n",
       "      <td>137999939</td>\n",
       "      <td>1392445892</td>\n",
       "      <td>1.254446</td>\n",
       "    </tr>\n",
       "    <tr>\n",
       "      <th>1</th>\n",
       "      <td>28</td>\n",
       "      <td>Mad Max: Fury Road</td>\n",
       "      <td>120</td>\n",
       "      <td>Action|Adventure|Science Fiction|Thriller</td>\n",
       "      <td>2015</td>\n",
       "      <td>137999939</td>\n",
       "      <td>348161292</td>\n",
       "      <td>0.210161</td>\n",
       "    </tr>\n",
       "    <tr>\n",
       "      <th>629</th>\n",
       "      <td>24</td>\n",
       "      <td>Interstellar</td>\n",
       "      <td>169</td>\n",
       "      <td>Adventure|Drama|Science Fiction</td>\n",
       "      <td>2014</td>\n",
       "      <td>151980023</td>\n",
       "      <td>572690645</td>\n",
       "      <td>0.420711</td>\n",
       "    </tr>\n",
       "    <tr>\n",
       "      <th>630</th>\n",
       "      <td>14</td>\n",
       "      <td>Guardians of the Galaxy</td>\n",
       "      <td>121</td>\n",
       "      <td>Action|Science Fiction|Adventure</td>\n",
       "      <td>2014</td>\n",
       "      <td>156585478</td>\n",
       "      <td>712291130</td>\n",
       "      <td>0.555706</td>\n",
       "    </tr>\n",
       "    <tr>\n",
       "      <th>2</th>\n",
       "      <td>13</td>\n",
       "      <td>Insurgent</td>\n",
       "      <td>119</td>\n",
       "      <td>Adventure|Science Fiction|Thriller</td>\n",
       "      <td>2015</td>\n",
       "      <td>101199955</td>\n",
       "      <td>271619025</td>\n",
       "      <td>0.170419</td>\n",
       "    </tr>\n",
       "    <tr>\n",
       "      <th>631</th>\n",
       "      <td>12</td>\n",
       "      <td>Captain America: The Winter Soldier</td>\n",
       "      <td>136</td>\n",
       "      <td>Action|Adventure|Science Fiction</td>\n",
       "      <td>2014</td>\n",
       "      <td>156585478</td>\n",
       "      <td>658365092</td>\n",
       "      <td>0.501780</td>\n",
       "    </tr>\n",
       "    <tr>\n",
       "      <th>1329</th>\n",
       "      <td>12</td>\n",
       "      <td>Star Wars</td>\n",
       "      <td>121</td>\n",
       "      <td>Adventure|Action|Science Fiction</td>\n",
       "      <td>1977</td>\n",
       "      <td>39575591</td>\n",
       "      <td>2789712242</td>\n",
       "      <td>2.750137</td>\n",
       "    </tr>\n",
       "    <tr>\n",
       "      <th>3</th>\n",
       "      <td>11</td>\n",
       "      <td>Star Wars: The Force Awakens</td>\n",
       "      <td>136</td>\n",
       "      <td>Action|Adventure|Science Fiction|Fantasy</td>\n",
       "      <td>2015</td>\n",
       "      <td>183999919</td>\n",
       "      <td>1902723129</td>\n",
       "      <td>1.718723</td>\n",
       "    </tr>\n",
       "    <tr>\n",
       "      <th>632</th>\n",
       "      <td>11</td>\n",
       "      <td>John Wick</td>\n",
       "      <td>101</td>\n",
       "      <td>Action|Thriller</td>\n",
       "      <td>2014</td>\n",
       "      <td>18421821</td>\n",
       "      <td>72526614</td>\n",
       "      <td>0.054105</td>\n",
       "    </tr>\n",
       "    <tr>\n",
       "      <th>633</th>\n",
       "      <td>10</td>\n",
       "      <td>The Hunger Games: Mockingjay - Part 1</td>\n",
       "      <td>123</td>\n",
       "      <td>Science Fiction|Adventure|Thriller</td>\n",
       "      <td>2014</td>\n",
       "      <td>115136381</td>\n",
       "      <td>692752790</td>\n",
       "      <td>0.577616</td>\n",
       "    </tr>\n",
       "    <tr>\n",
       "      <th>634</th>\n",
       "      <td>10</td>\n",
       "      <td>The Hobbit: The Battle of the Five Armies</td>\n",
       "      <td>144</td>\n",
       "      <td>Adventure|Fantasy</td>\n",
       "      <td>2014</td>\n",
       "      <td>230272762</td>\n",
       "      <td>879752289</td>\n",
       "      <td>0.649480</td>\n",
       "    </tr>\n",
       "    <tr>\n",
       "      <th>1386</th>\n",
       "      <td>9</td>\n",
       "      <td>Avatar</td>\n",
       "      <td>162</td>\n",
       "      <td>Action|Adventure|Fantasy|Science Fiction</td>\n",
       "      <td>2009</td>\n",
       "      <td>240886902</td>\n",
       "      <td>2827123750</td>\n",
       "      <td>2.586237</td>\n",
       "    </tr>\n",
       "    <tr>\n",
       "      <th>1919</th>\n",
       "      <td>9</td>\n",
       "      <td>Inception</td>\n",
       "      <td>148</td>\n",
       "      <td>Action|Thriller|Science Fiction|Mystery|Adventure</td>\n",
       "      <td>2010</td>\n",
       "      <td>160000000</td>\n",
       "      <td>825500000</td>\n",
       "      <td>0.665500</td>\n",
       "    </tr>\n",
       "    <tr>\n",
       "      <th>5</th>\n",
       "      <td>9</td>\n",
       "      <td>The Revenant</td>\n",
       "      <td>156</td>\n",
       "      <td>Western|Drama|Adventure|Thriller</td>\n",
       "      <td>2015</td>\n",
       "      <td>124199945</td>\n",
       "      <td>490314247</td>\n",
       "      <td>0.366114</td>\n",
       "    </tr>\n",
       "    <tr>\n",
       "      <th>4</th>\n",
       "      <td>9</td>\n",
       "      <td>Furious 7</td>\n",
       "      <td>137</td>\n",
       "      <td>Action|Crime|Thriller</td>\n",
       "      <td>2015</td>\n",
       "      <td>174799923</td>\n",
       "      <td>1385748801</td>\n",
       "      <td>1.210949</td>\n",
       "    </tr>\n",
       "    <tr>\n",
       "      <th>2633</th>\n",
       "      <td>8</td>\n",
       "      <td>The Lord of the Rings: The Fellowship of the Ring</td>\n",
       "      <td>178</td>\n",
       "      <td>Adventure|Fantasy|Action</td>\n",
       "      <td>2001</td>\n",
       "      <td>114528394</td>\n",
       "      <td>1073079785</td>\n",
       "      <td>0.958551</td>\n",
       "    </tr>\n",
       "    <tr>\n",
       "      <th>636</th>\n",
       "      <td>8</td>\n",
       "      <td>The Imitation Game</td>\n",
       "      <td>113</td>\n",
       "      <td>History|Drama|Thriller|War</td>\n",
       "      <td>2014</td>\n",
       "      <td>12895274</td>\n",
       "      <td>215126072</td>\n",
       "      <td>0.202231</td>\n",
       "    </tr>\n",
       "    <tr>\n",
       "      <th>635</th>\n",
       "      <td>8</td>\n",
       "      <td>Big Hero 6</td>\n",
       "      <td>102</td>\n",
       "      <td>Adventure|Family|Animation|Action|Comedy</td>\n",
       "      <td>2014</td>\n",
       "      <td>151980023</td>\n",
       "      <td>600648487</td>\n",
       "      <td>0.448668</td>\n",
       "    </tr>\n",
       "    <tr>\n",
       "      <th>3911</th>\n",
       "      <td>8</td>\n",
       "      <td>The Lord of the Rings: The Two Towers</td>\n",
       "      <td>179</td>\n",
       "      <td>Adventure|Fantasy|Action</td>\n",
       "      <td>2002</td>\n",
       "      <td>95768650</td>\n",
       "      <td>1122902454</td>\n",
       "      <td>1.027134</td>\n",
       "    </tr>\n",
       "    <tr>\n",
       "      <th>2634</th>\n",
       "      <td>8</td>\n",
       "      <td>Harry Potter and the Philosopher's Stone</td>\n",
       "      <td>152</td>\n",
       "      <td>Adventure|Fantasy|Family</td>\n",
       "      <td>2001</td>\n",
       "      <td>153936014</td>\n",
       "      <td>1202518036</td>\n",
       "      <td>1.048582</td>\n",
       "    </tr>\n",
       "  </tbody>\n",
       "</table>\n",
       "</div>"
      ],
      "text/plain": [
       "      popularity                                     original_title  runtime  \\\n",
       "0             32                                     Jurassic World      124   \n",
       "1             28                                 Mad Max: Fury Road      120   \n",
       "629           24                                       Interstellar      169   \n",
       "630           14                            Guardians of the Galaxy      121   \n",
       "2             13                                          Insurgent      119   \n",
       "631           12                Captain America: The Winter Soldier      136   \n",
       "1329          12                                          Star Wars      121   \n",
       "3             11                       Star Wars: The Force Awakens      136   \n",
       "632           11                                          John Wick      101   \n",
       "633           10              The Hunger Games: Mockingjay - Part 1      123   \n",
       "634           10          The Hobbit: The Battle of the Five Armies      144   \n",
       "1386           9                                             Avatar      162   \n",
       "1919           9                                          Inception      148   \n",
       "5              9                                       The Revenant      156   \n",
       "4              9                                          Furious 7      137   \n",
       "2633           8  The Lord of the Rings: The Fellowship of the Ring      178   \n",
       "636            8                                 The Imitation Game      113   \n",
       "635            8                                         Big Hero 6      102   \n",
       "3911           8              The Lord of the Rings: The Two Towers      179   \n",
       "2634           8           Harry Potter and the Philosopher's Stone      152   \n",
       "\n",
       "                                                 genres  release_year  \\\n",
       "0             Action|Adventure|Science Fiction|Thriller          2015   \n",
       "1             Action|Adventure|Science Fiction|Thriller          2015   \n",
       "629                     Adventure|Drama|Science Fiction          2014   \n",
       "630                    Action|Science Fiction|Adventure          2014   \n",
       "2                    Adventure|Science Fiction|Thriller          2015   \n",
       "631                    Action|Adventure|Science Fiction          2014   \n",
       "1329                   Adventure|Action|Science Fiction          1977   \n",
       "3              Action|Adventure|Science Fiction|Fantasy          2015   \n",
       "632                                     Action|Thriller          2014   \n",
       "633                  Science Fiction|Adventure|Thriller          2014   \n",
       "634                                   Adventure|Fantasy          2014   \n",
       "1386           Action|Adventure|Fantasy|Science Fiction          2009   \n",
       "1919  Action|Thriller|Science Fiction|Mystery|Adventure          2010   \n",
       "5                      Western|Drama|Adventure|Thriller          2015   \n",
       "4                                 Action|Crime|Thriller          2015   \n",
       "2633                           Adventure|Fantasy|Action          2001   \n",
       "636                          History|Drama|Thriller|War          2014   \n",
       "635            Adventure|Family|Animation|Action|Comedy          2014   \n",
       "3911                           Adventure|Fantasy|Action          2002   \n",
       "2634                           Adventure|Fantasy|Family          2001   \n",
       "\n",
       "      budget_adj  revenue_adj  profit - $ Billion  \n",
       "0      137999939   1392445892            1.254446  \n",
       "1      137999939    348161292            0.210161  \n",
       "629    151980023    572690645            0.420711  \n",
       "630    156585478    712291130            0.555706  \n",
       "2      101199955    271619025            0.170419  \n",
       "631    156585478    658365092            0.501780  \n",
       "1329    39575591   2789712242            2.750137  \n",
       "3      183999919   1902723129            1.718723  \n",
       "632     18421821     72526614            0.054105  \n",
       "633    115136381    692752790            0.577616  \n",
       "634    230272762    879752289            0.649480  \n",
       "1386   240886902   2827123750            2.586237  \n",
       "1919   160000000    825500000            0.665500  \n",
       "5      124199945    490314247            0.366114  \n",
       "4      174799923   1385748801            1.210949  \n",
       "2633   114528394   1073079785            0.958551  \n",
       "636     12895274    215126072            0.202231  \n",
       "635    151980023    600648487            0.448668  \n",
       "3911    95768650   1122902454            1.027134  \n",
       "2634   153936014   1202518036            1.048582  "
      ]
     },
     "execution_count": 17,
     "metadata": {},
     "output_type": "execute_result"
    }
   ],
   "source": [
    "# Sort the data by popularity and show the top 20 rows.\n",
    "df.sort_values(['popularity'], ascending = False).head(20)"
   ]
  },
  {
   "cell_type": "markdown",
   "metadata": {},
   "source": [
    "**Surprisingly, there's not a lot of overlap between the most popular and most profitable movies...** Since most profitable is the difference of their total revenue vs their initial budget, it goes to say that the more popular a movie is the more revenue it will have and thereby the more profitable. "
   ]
  },
  {
   "cell_type": "markdown",
   "metadata": {},
   "source": [
    "### Research Question 3  - Are movies getting longer? Avg/Mean Runtime Of Movies From Year To Year"
   ]
  },
  {
   "cell_type": "code",
   "execution_count": 18,
   "metadata": {
    "tags": []
   },
   "outputs": [
    {
     "data": {
      "text/plain": [
       "release_year\n",
       "1960    118.000000\n",
       "1961    132.500000\n",
       "1962    135.666667\n",
       "1963    148.000000\n",
       "1964    119.875000\n",
       "Name: runtime, dtype: float64"
      ]
     },
     "execution_count": 18,
     "metadata": {},
     "output_type": "execute_result"
    }
   ],
   "source": [
    "# First group movie runtime by each years\n",
    "runtime_year = df.groupby('release_year')['runtime'].mean()\n",
    "runtime_year.head(5)\n"
   ]
  },
  {
   "cell_type": "code",
   "execution_count": 19,
   "metadata": {},
   "outputs": [
    {
     "data": {
      "image/png": "[encoded data removed]",
      "text/plain": [
       "<Figure size 1000x600 with 1 Axes>"
      ]
     },
     "metadata": {},
     "output_type": "display_data"
    }
   ],
   "source": [
    "# plot the above query.\n",
    "runtime_year.plot(figsize = (10,6))\n",
    "plt.xlabel('Movies Released Year', fontsize = 15)\n",
    "plt.ylabel('Total Runtime', fontsize = 15)\n",
    "plt.title('Total Runtime vs Movie Years', fontsize = 20);"
   ]
  },
  {
   "cell_type": "markdown",
   "metadata": {},
   "source": [
    "Interpreting this data, our attention spans have definitely gotten shorter, thereby so has our movies."
   ]
  },
  {
   "cell_type": "markdown",
   "metadata": {},
   "source": [
    "### Research Question 4  - Which Genre Has The Highest Release Of Movies?"
   ]
  },
  {
   "cell_type": "code",
   "execution_count": 21,
   "metadata": {
    "tags": []
   },
   "outputs": [],
   "source": [
    "# function to split the string and return the count of each genre\n",
    "def count_genre(x):\n",
    "    #concatenate all the rows of the genres\n",
    "    data_plot = df[x].str.cat(sep = '|')\n",
    "    data = pd.Series(data_plot.split('|'))\n",
    "    #count each of the genres and return\n",
    "    info = data.value_counts(ascending=False)\n",
    "    return info"
   ]
  },
  {
   "cell_type": "code",
   "execution_count": 24,
   "metadata": {},
   "outputs": [
    {
     "data": {
      "image/png": "[encoded data removed]",
      "text/plain": [
       "<Figure size 1300x600 with 1 Axes>"
      ]
     },
     "metadata": {},
     "output_type": "display_data"
    }
   ],
   "source": [
    "# call the function for counting total movies per genre\n",
    "total_genre_movies = count_genre('genres')\n",
    "\n",
    "# plot a horizontal bar plot using plot function\n",
    "# Genres vs Number of Movies\n",
    "total_genre_movies.plot(kind= 'barh',figsize = (13,6),fontsize=12,colormap='tab20c')\n",
    "\n",
    "# Set the title and the labels of the plot\n",
    "plt.title(\"Genres with the most Movie Releases\",fontsize=15)\n",
    "plt.xlabel('Number Of Movies',fontsize=13)\n",
    "plt.ylabel(\"Genres\",fontsize= 13)\n",
    "sns.set_style(\"whitegrid\")"
   ]
  },
  {
   "cell_type": "markdown",
   "metadata": {},
   "source": [
    "According to the bar chart, the Drama genre has the highest release of movies followed by Comedy, Thriller and Action. This however doesn't take into consideration a movie being categorized into multiple genres. It does though illude to why a movie that has Drama and Comedy, also known as a \"Dramady\" are so prevalent."
   ]
  },
  {
   "cell_type": "markdown",
   "metadata": {},
   "source": [
    "<a id='conclusions'></a>\n",
    "## Conclusions\n",
    "\n",
    "The massive 10000 film databse had to be wrangled down to make it usable for my explorations. After choosing my questions to explore, I chose to save resources and only load the columns I intended to analyze from the start. After removing duplicates, missing data and adjusting incorrect datatypes, the usable database was about half the size at 4848 rows and 7 columns. \n",
    "\n",
    "There was not a significant overlap between the most profitable movies and the most popular movies... I hypothesized the top 20 results would be near identical, as Profit is directly impacted by the popularity of a movie - though it's also directly affected by the movie's initial budget - however meager or inflated it is. 70% of the films on the most profitable list were released more than 20 yrs ago. Can a recent movie be profitable and popular at the same time? Are the expensive special effects and CGI in modern films necessary for top profits or more often than not are they the downfall of a film's profit margin? More exploration is needed into the recent films to find their limitation factors.\n",
    "\n",
    "The declining movie runtime over the years makes sense to me as it relates to our increasingly busy lives and limited attention spans. Further exploration into the 'sweet spot' of runtime vs profit is needed to discover if such exists for the ideal movie formula.\n",
    "\n",
    "**Sources:**\n",
    "\n",
    "- Pandas documentation\n",
    "- Kaggle TMDB guide\n",
    "- TMDB developer guide\n",
    "\n",
    "\n",
    "## Submitting your Project \n",
    "\n",
    "> **Tip**: Before you submit your project, you need to create a .html or .pdf version of this notebook in the workspace here. To do that, run the code cell below. If it worked correctly, you should see output that starts with `NbConvertApp] Converting notebook`, and you should see the generated .html file in the workspace directory (click on the orange Jupyter icon in the upper left).\n",
    "\n",
    "> **Tip**: Alternatively, you can download this report as .html via the **File** > **Download as** submenu, and then manually upload it into the workspace directory by clicking on the orange Jupyter icon in the upper left, then using the Upload button.\n",
    "\n",
    "> **Tip**: Once you've done this, you can submit your project by clicking on the \"Submit Project\" button in the lower right here. This will create and submit a zip file with this .ipynb doc and the .html or .pdf version you created. Congratulations!"
   ]
  },
  {
   "cell_type": "code",
   "execution_count": 26,
   "metadata": {
    "tags": []
   },
   "outputs": [
    {
     "name": "stdout",
     "output_type": "stream",
     "text": [
      "[NbConvertApp] Converting notebook Investigate_a_Dataset.ipynb to html\n",
      "[NbConvertApp] WARNING | Alternative text is missing on 2 image(s).\n",
      "[NbConvertApp] Writing 463881 bytes to Investigate_a_Dataset.html\n"
     ]
    }
   ],
   "source": [
    "# Running this cell will execute a bash command to convert this notebook to an .html file\n",
    "!python -m nbconvert --to html Investigate_a_Dataset.ipynb"
   ]
  }
 ],
 "metadata": {
  "kernelspec": {
   "display_name": "Python 3 (ipykernel)",
   "language": "python",
   "name": "python3"
  },
  "language_info": {
   "codemirror_mode": {
    "name": "ipython",
    "version": 3
   },
   "file_extension": ".py",
   "mimetype": "text/x-python",
   "name": "python",
   "nbconvert_exporter": "python",
   "pygments_lexer": "ipython3",
   "version": "3.10.13"
  }
 },
 "nbformat": 4,
 "nbformat_minor": 4
}
